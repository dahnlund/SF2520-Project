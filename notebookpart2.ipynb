{
 "cells": [
  {
   "cell_type": "markdown",
   "metadata": {},
   "source": [
    "## Part 2.1"
   ]
  },
  {
   "cell_type": "code",
   "execution_count": 1,
   "metadata": {},
   "outputs": [],
   "source": [
    "\"\"\"Load dependencies\"\"\"\n",
    "import numpy as np\n",
    "import scipy.sparse as sp\n",
    "from scipy.sparse import csc_matrix, csc_array, eye\n",
    "from scipy.sparse.linalg import spsolve, splu\n",
    "from matplotlib import pyplot as plt\n",
    "from matplotlib.animation import FuncAnimation\n",
    "from src.module import DAEModule"
   ]
  },
  {
   "cell_type": "code",
   "execution_count": 2,
   "metadata": {},
   "outputs": [],
   "source": [
    "## Given data\n",
    "\n",
    "eta = 0.21\n",
    "gamma = 100\n",
    "alpha = 0.2\n",
    "w = 0.3\n",
    "\n",
    "def v(z):\n",
    "    return 1-4*(z-1/2)**2"
   ]
  },
  {
   "cell_type": "code",
   "execution_count": 3,
   "metadata": {},
   "outputs": [
    {
     "name": "stderr",
     "output_type": "stream",
     "text": [
      "/var/folders/m9/hb_z9t0x7tj7c1c__gblxfc00000gn/T/ipykernel_45552/3399971855.py:5: RuntimeWarning: divide by zero encountered in divide\n",
      "  A1_data = np.array([eta*np.ones(z[1:M].shape)/(v(z[1:M]+dz)*dz**2), -2*eta*np.ones(z[1:M].shape)/(v(z[1:M])*dz**2), eta*np.ones(z[1:M].shape)/(v(z[1:M]-dz)*dz**2)])\n"
     ]
    }
   ],
   "source": [
    "M = 1000\n",
    "dz = 1/M\n",
    "N = int(round(w/dz))\n",
    "z = np.linspace(0,1+w,M+N+1)\n",
    "A1_data = np.array([eta*np.ones(z[1:M].shape)/(v(z[1:M]+dz)*dz**2), -2*eta*np.ones(z[1:M].shape)/(v(z[1:M])*dz**2), eta*np.ones(z[1:M].shape)/(v(z[1:M]-dz)*dz**2)])\n",
    "A1 = sp.spdiags(A1_data, np.array([-1, 0, 1]), format='csc')\n",
    "\n",
    "# Adjust for first boundary condition:\n",
    "A1[0,0] = eta/(v(z[1])*dz**2)*(-2/3); A1[0,1] = eta/(v(z[1])*dz**2)*(2/3)\n",
    "\n",
    "A2_data = np.array([np.ones(z[M+1:M+N].shape)/(dz**2), -2*np.ones(z[M+1:M+N].shape)/(dz**2)-gamma, np.ones(z[M+1:M+N].shape)/(dz**2)])\n",
    "A2 = sp.spdiags(A2_data, np.array([-1, 0, 1]), format='csc'); A2[-1,-1] = 1/(dz**2)*(-2/3)-gamma; A2[-1,-2] = 1/(dz**2)*(2/3)\n",
    "\n",
    "b1 = np.zeros((A1.shape[0],1)); b1[-1] = -1/dz\n",
    "b2 = np.zeros((A2.shape[0],1)); b2[0] = -alpha/dz\n",
    "a = (1+alpha)/dz\n",
    "e1 = np.zeros((A1.shape[0],1)); e1[-1] = eta/((dz**2)*v((M-1)*dz))\n",
    "e2 = np.zeros((A2.shape[0],1)); e2[0] = 1/(dz**2)"
   ]
  },
  {
   "cell_type": "code",
   "execution_count": 4,
   "metadata": {},
   "outputs": [],
   "source": [
    "#Concatenate everything to block matrix system\n",
    "block1 = sp.hstack([A1,csc_matrix(e1),csc_matrix(np.zeros((A1.shape[0], A2.shape[1])))])\n",
    "block2 = sp.hstack([csc_matrix(b1.T), csc_matrix(a), csc_matrix(b2.T)])\n",
    "block3 = sp.hstack([csc_matrix(np.zeros((A2.shape[0], A1.shape[1]))), csc_matrix(e2), A2])\n",
    "A = sp.vstack([block1,block2,block3])"
   ]
  },
  {
   "cell_type": "code",
   "execution_count": 15,
   "metadata": {},
   "outputs": [],
   "source": [
    "dtau = 0.001\n",
    "model = DAEModule(A,\n",
    "                  A1,\n",
    "                  A2, \n",
    "                  dtau)\n",
    "\n",
    "tau, u = model.solve()\n",
    "_, u_reg = model.solve(0.001)"
   ]
  },
  {
   "cell_type": "code",
   "execution_count": 16,
   "metadata": {},
   "outputs": [
    {
     "data": {
      "text/plain": [
       "<mpl_toolkits.mplot3d.art3d.Poly3DCollection at 0x12b415a50>"
      ]
     },
     "execution_count": 16,
     "metadata": {},
     "output_type": "execute_result"
    }
   ],
   "source": [
    "\n",
    "\"\"\" 3D plot \"\"\"\n",
    "%matplotlib qt\n",
    "\n",
    "Z, TAU = np.meshgrid(z[1:-1],tau)\n",
    "\n",
    "fig = plt.figure() \n",
    "ax = fig.add_subplot(111, projection='3d')\n",
    "ax.plot_surface(Z, TAU, u_reg.T)\n"
   ]
  },
  {
   "cell_type": "code",
   "execution_count": 17,
   "metadata": {},
   "outputs": [],
   "source": [
    "\"\"\"Animation\"\"\"\n",
    "\n",
    "fig, ax = plt.subplots()\n",
    "\n",
    "line, = ax.plot(z[1:-1], u[:, 0])\n",
    "\n",
    "def update(frame):\n",
    "    line.set_ydata(u_reg[:, frame])\n",
    "    return line,\n",
    "\n",
    "ani = FuncAnimation(fig, update, frames=range(u_reg.shape[1]), interval=1, blit=True)"
   ]
  }
 ],
 "metadata": {
  "kernelspec": {
   "display_name": "Python 3",
   "language": "python",
   "name": "python3"
  },
  "language_info": {
   "codemirror_mode": {
    "name": "ipython",
    "version": 3
   },
   "file_extension": ".py",
   "mimetype": "text/x-python",
   "name": "python",
   "nbconvert_exporter": "python",
   "pygments_lexer": "ipython3",
   "version": "3.11.6"
  }
 },
 "nbformat": 4,
 "nbformat_minor": 2
}
