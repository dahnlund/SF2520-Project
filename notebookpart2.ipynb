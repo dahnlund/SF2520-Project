{
 "cells": [
  {
   "cell_type": "markdown",
   "metadata": {},
   "source": [
    "## Part 2.1"
   ]
  },
  {
   "cell_type": "code",
   "execution_count": 179,
   "metadata": {},
   "outputs": [],
   "source": [
    "\"\"\"Load dependencies\"\"\"\n",
    "import numpy as np\n",
    "import scipy.sparse as sp\n",
    "from scipy.sparse import csc_matrix, csc_array, eye\n",
    "from scipy.sparse.linalg import spsolve, splu\n",
    "from matplotlib import pyplot as plt\n",
    "from matplotlib.animation import FuncAnimation"
   ]
  },
  {
   "cell_type": "code",
   "execution_count": 180,
   "metadata": {},
   "outputs": [],
   "source": [
    "## Given data\n",
    "\n",
    "eta = 0.21\n",
    "gamma = 100\n",
    "alpha = 0.2\n",
    "w = 0.3\n",
    "\n",
    "def v(z):\n",
    "    return 1-4*(z-1/2)**2"
   ]
  },
  {
   "cell_type": "code",
   "execution_count": 181,
   "metadata": {},
   "outputs": [
    {
     "name": "stderr",
     "output_type": "stream",
     "text": [
      "/var/folders/m9/hb_z9t0x7tj7c1c__gblxfc00000gn/T/ipykernel_42300/3399971855.py:5: RuntimeWarning: divide by zero encountered in divide\n",
      "  A1_data = np.array([eta*np.ones(z[1:M].shape)/(v(z[1:M]+dz)*dz**2), -2*eta*np.ones(z[1:M].shape)/(v(z[1:M])*dz**2), eta*np.ones(z[1:M].shape)/(v(z[1:M]-dz)*dz**2)])\n"
     ]
    }
   ],
   "source": [
    "M = 1000\n",
    "dz = 1/M\n",
    "N = int(round(w/dz))\n",
    "z = np.linspace(0,1+w,M+N+1)\n",
    "A1_data = np.array([eta*np.ones(z[1:M].shape)/(v(z[1:M]+dz)*dz**2), -2*eta*np.ones(z[1:M].shape)/(v(z[1:M])*dz**2), eta*np.ones(z[1:M].shape)/(v(z[1:M]-dz)*dz**2)])\n",
    "A1 = sp.spdiags(A1_data, np.array([-1, 0, 1]), format='csc')\n",
    "\n",
    "# Adjust for first boundary condition:\n",
    "A1[0,0] = eta/(v(z[1])*dz**2)*(-2/3); A1[0,1] = eta/(v(z[1])*dz**2)*(2/3)\n",
    "\n",
    "A2_data = np.array([np.ones(z[M+1:M+N].shape)/(dz**2), -2*np.ones(z[M+1:M+N].shape)/(dz**2)-gamma, np.ones(z[M+1:M+N].shape)/(dz**2)])\n",
    "A2 = sp.spdiags(A2_data, np.array([-1, 0, 1]), format='csc'); A2[-1,-1] = 1/(dz**2)*(-2/3)-gamma; A2[-1,-2] = 1/(dz**2)*(2/3)\n",
    "\n",
    "b1 = np.zeros((A1.shape[0],1)); b1[-1] = -1/dz\n",
    "b2 = np.zeros((A2.shape[0],1)); b2[0] = -alpha/dz\n",
    "a = (1+alpha)/dz\n",
    "e1 = np.zeros((A1.shape[0],1)); e1[-1] = eta/((dz**2)*v((M-1)*dz))\n",
    "e2 = np.zeros((A2.shape[0],1)); e2[0] = 1/(dz**2)"
   ]
  },
  {
   "cell_type": "code",
   "execution_count": 182,
   "metadata": {},
   "outputs": [],
   "source": [
    "#Concatenate everything to block matrix system\n",
    "block1 = sp.hstack([A1,csc_matrix(e1),csc_matrix(np.zeros((A1.shape[0], A2.shape[1])))])\n",
    "block2 = sp.hstack([csc_matrix(b1.T), csc_matrix(a), csc_matrix(b2.T)])\n",
    "block3 = sp.hstack([csc_matrix(np.zeros((A2.shape[0], A1.shape[1]))), csc_matrix(e2), A2])\n",
    "A = sp.vstack([block1,block2,block3])"
   ]
  },
  {
   "cell_type": "code",
   "execution_count": 185,
   "metadata": {},
   "outputs": [],
   "source": [
    "I_A1 = np.eye(A1.shape[0])\n",
    "I_tot = np.zeros(A.shape)\n",
    "# Insert I_A1 to I_tot\n",
    "I_tot[:I_A1.shape[0], :I_A1.shape[0]] = I_A1\n",
    "\n",
    "I_tot = csc_matrix(I_tot)\n",
    "dtau = 0.0001\n",
    "\n",
    "# Initial condition\n",
    "u0 = np.zeros((A.shape[1],1)); u0[:M-1] = 1\n",
    "\n",
    "## Implicit Euler\n",
    "tau = np.arange(dtau, 1, dtau)\n",
    "saved_u = np.zeros((len(u0), len(tau)))\n",
    "saved_u[:, 0] = u0[:, 0]\n",
    "\n",
    "uk = u0\n",
    "\n",
    "LHS = splu(I_tot - dtau*A)\n",
    "for i,_ in enumerate(tau):\n",
    "    RHS = I_tot.dot(uk)\n",
    "    u_new = LHS.solve(RHS)\n",
    "    #u_new = spsolve(LHS, RHS, use_umfpack=False)\n",
    "    saved_u[:, i] = u_new[:,0]\n",
    "    uk = u_new"
   ]
  },
  {
   "cell_type": "code",
   "execution_count": 186,
   "metadata": {},
   "outputs": [
    {
     "data": {
      "text/plain": [
       "<mpl_toolkits.mplot3d.art3d.Poly3DCollection at 0x12f1a21d0>"
      ]
     },
     "execution_count": 186,
     "metadata": {},
     "output_type": "execute_result"
    }
   ],
   "source": [
    "\"\"\" 3D plot \"\"\"\n",
    "%matplotlib qt\n",
    "\n",
    "Z, TAU = np.meshgrid(z[1:-1],tau)\n",
    "\n",
    "fig = plt.figure() \n",
    "ax = fig.add_subplot(111, projection='3d')\n",
    "ax.plot_surface(Z, TAU, saved_u.T)\n"
   ]
  },
  {
   "cell_type": "code",
   "execution_count": 178,
   "metadata": {},
   "outputs": [],
   "source": [
    "\"\"\"Animation\"\"\"\n",
    "\n",
    "fig, ax = plt.subplots()\n",
    "\n",
    "line, = ax.plot(z[1:-1], saved_u[:, 0])\n",
    "\n",
    "def update(frame):\n",
    "    line.set_ydata(saved_u[:, frame])\n",
    "    return line,\n",
    "\n",
    "ani = FuncAnimation(fig, update, frames=range(saved_u.shape[1]), interval=1, blit=True)"
   ]
  }
 ],
 "metadata": {
  "kernelspec": {
   "display_name": "Python 3",
   "language": "python",
   "name": "python3"
  },
  "language_info": {
   "codemirror_mode": {
    "name": "ipython",
    "version": 3
   },
   "file_extension": ".py",
   "mimetype": "text/x-python",
   "name": "python",
   "nbconvert_exporter": "python",
   "pygments_lexer": "ipython3",
   "version": "3.11.6"
  }
 },
 "nbformat": 4,
 "nbformat_minor": 2
}
